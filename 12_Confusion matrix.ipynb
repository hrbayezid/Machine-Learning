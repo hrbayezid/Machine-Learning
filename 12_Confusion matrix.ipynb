{
 "cells": [
  {
   "cell_type": "code",
   "execution_count": 18,
   "id": "e3265016",
   "metadata": {},
   "outputs": [
    {
     "name": "stdout",
     "output_type": "stream",
     "text": [
      "Confusion Matrix:\n",
      " [[4 1]\n",
      " [1 4]]\n"
     ]
    }
   ],
   "source": [
    "from sklearn.metrics import confusion_matrix\n",
    "\n",
    "y_true = [1, 0, 1, 1, 0, 1, 0, 0, 1, 0]\n",
    "y_pred = [1, 0, 1, 0, 0, 1, 1, 0, 1, 0]\n",
    "\n",
    "\n",
    "cm = confusion_matrix(y_true, y_pred)\n",
    "print(\"Confusion Matrix:\\n\", cm)"
   ]
  },
  {
   "cell_type": "code",
   "execution_count": 19,
   "id": "b208ab2b",
   "metadata": {},
   "outputs": [
    {
     "name": "stdout",
     "output_type": "stream",
     "text": [
      "Accuracy: 0.8\n",
      "Precision: 0.8\n",
      "Recall: 0.8\n",
      "F1 Score: 0.800000\n",
      "Error Rate: 0.2\n"
     ]
    }
   ],
   "source": [
    "\n",
    "# tn, fp, fn, tp = cm.ravel()\n",
    "\n",
    "tn = cm[0, 0]\n",
    "fp = cm[0, 1]\n",
    "fn = cm[1, 0]\n",
    "tp = cm[1, 1]\n",
    "\n",
    "accuracy = (tp + tn) / (tp + tn + fp + fn)\n",
    "\n",
    "precision = tp / (tp + fp) if (tp + fp) > 0 else 0\n",
    "\n",
    "# Recall (Sensitivity)\n",
    "recall = tp / (tp + fn) if (tp + fn) > 0 else 0\n",
    "\n",
    "f1_score = 2 * (precision * recall) / (precision + recall) if (precision + recall) > 0 else 0\n",
    "\n",
    "error_rate = (fp + fn) / (tp + tn + fp + fn)\n",
    "\n",
    "print(f\"Accuracy: {accuracy}\")\n",
    "print(f\"Precision: {precision}\")\n",
    "print(f\"Recall: {recall}\")\n",
    "print(f\"F1 Score: {f1_score:2f}\")\n",
    "print(f\"Error Rate: {error_rate}\")"
   ]
  },
  {
   "cell_type": "code",
   "execution_count": 43,
   "id": "09ce6b55",
   "metadata": {},
   "outputs": [],
   "source": [
    "import pandas as pd\n",
    "import kagglehub as kh\n",
    "import matplotlib.pyplot as plt\n",
    "import seaborn as sns\n",
    "from sklearn.linear_model import LogisticRegression\n",
    "from sklearn.model_selection import train_test_split\n",
    "from sklearn.metrics import confusion_matrix,precision_score,recall_score,f1_score"
   ]
  },
  {
   "cell_type": "code",
   "execution_count": 27,
   "id": "be04410d",
   "metadata": {},
   "outputs": [
    {
     "data": {
      "text/html": [
       "<div>\n",
       "<style scoped>\n",
       "    .dataframe tbody tr th:only-of-type {\n",
       "        vertical-align: middle;\n",
       "    }\n",
       "\n",
       "    .dataframe tbody tr th {\n",
       "        vertical-align: top;\n",
       "    }\n",
       "\n",
       "    .dataframe thead th {\n",
       "        text-align: right;\n",
       "    }\n",
       "</style>\n",
       "<table border=\"1\" class=\"dataframe\">\n",
       "  <thead>\n",
       "    <tr style=\"text-align: right;\">\n",
       "      <th></th>\n",
       "      <th>cgpa</th>\n",
       "      <th>iq</th>\n",
       "      <th>placement</th>\n",
       "    </tr>\n",
       "  </thead>\n",
       "  <tbody>\n",
       "    <tr>\n",
       "      <th>0</th>\n",
       "      <td>6.8</td>\n",
       "      <td>123.0</td>\n",
       "      <td>1</td>\n",
       "    </tr>\n",
       "    <tr>\n",
       "      <th>1</th>\n",
       "      <td>5.9</td>\n",
       "      <td>106.0</td>\n",
       "      <td>0</td>\n",
       "    </tr>\n",
       "    <tr>\n",
       "      <th>2</th>\n",
       "      <td>5.3</td>\n",
       "      <td>121.0</td>\n",
       "      <td>0</td>\n",
       "    </tr>\n",
       "    <tr>\n",
       "      <th>3</th>\n",
       "      <td>7.4</td>\n",
       "      <td>132.0</td>\n",
       "      <td>1</td>\n",
       "    </tr>\n",
       "    <tr>\n",
       "      <th>4</th>\n",
       "      <td>5.8</td>\n",
       "      <td>142.0</td>\n",
       "      <td>0</td>\n",
       "    </tr>\n",
       "  </tbody>\n",
       "</table>\n",
       "</div>"
      ],
      "text/plain": [
       "   cgpa     iq  placement\n",
       "0   6.8  123.0          1\n",
       "1   5.9  106.0          0\n",
       "2   5.3  121.0          0\n",
       "3   7.4  132.0          1\n",
       "4   5.8  142.0          0"
      ]
     },
     "execution_count": 27,
     "metadata": {},
     "output_type": "execute_result"
    }
   ],
   "source": [
    "path = kh.dataset_download(\"somya2115/placement-csv\")\n",
    "database = pd.read_csv(f\"{path}/placement.csv\")\n",
    "database = database.drop(\"Unnamed: 0\", axis=1)\n",
    "database.head()"
   ]
  },
  {
   "cell_type": "code",
   "execution_count": 40,
   "id": "cc9d1a59",
   "metadata": {},
   "outputs": [],
   "source": [
    "x = database.drop(\"placement\",axis=1)\n",
    "y = database [\"placement\"]\n",
    "\n",
    "x_train,x_test,y_train,y_test = train_test_split(x,y,test_size=.25,random_state=42)\n"
   ]
  },
  {
   "cell_type": "code",
   "execution_count": 41,
   "id": "f30efcdd",
   "metadata": {},
   "outputs": [
    {
     "data": {
      "text/plain": [
       "0.88"
      ]
     },
     "execution_count": 41,
     "metadata": {},
     "output_type": "execute_result"
    }
   ],
   "source": [
    "lr = LogisticRegression()\n",
    "lr.fit(x_train,y_train)\n",
    "lr.score(x_test,y_test)"
   ]
  },
  {
   "cell_type": "code",
   "execution_count": 46,
   "id": "ab40c5fe",
   "metadata": {},
   "outputs": [],
   "source": [
    "cf = confusion_matrix(y_true=y_test, y_pred= lr.predict(x_test))"
   ]
  },
  {
   "cell_type": "code",
   "execution_count": 48,
   "id": "818cbdb6",
   "metadata": {},
   "outputs": [
    {
     "data": {
      "image/png": "[encoded data removed]",
      "text/plain": [
       "<Figure size 640x480 with 2 Axes>"
      ]
     },
     "metadata": {},
     "output_type": "display_data"
    }
   ],
   "source": [
    "sns.heatmap(data=cf , annot=True)\n",
    "plt.show()"
   ]
  },
  {
   "cell_type": "code",
   "execution_count": 51,
   "id": "91f24069",
   "metadata": {},
   "outputs": [
    {
     "name": "stdout",
     "output_type": "stream",
     "text": [
      "85.71428571428571\n",
      "92.3076923076923\n",
      "88.88888888888889\n"
     ]
    }
   ],
   "source": [
    "print(recall_score(y_true=y_test, y_pred= lr.predict(x_test))*100)\n",
    "print(precision_score(y_true=y_test, y_pred= lr.predict(x_test))*100)\n",
    "print(f1_score(y_true=y_test, y_pred= lr.predict(x_test))*100)"
   ]
  },
  {
   "cell_type": "markdown",
   "id": "612e73bf",
   "metadata": {},
   "source": [
    "## Confusion Matrix: Overview & Metrics\n",
    "\n",
    "A **confusion matrix** is a table used to evaluate the performance of a classification algorithm by comparing predicted and actual labels.\n",
    "\n",
    "---\n",
    "\n",
    "### Structure of a Confusion Matrix\n",
    "\n",
    "|                      | **Predicted Positive** | **Predicted Negative** |\n",
    "|----------------------|:---------------------:|:---------------------:|\n",
    "| **Actual Positive**  | True Positive (**TP**) | False Negative (**FN**)|\n",
    "| **Actual Negative**  | False Positive (**FP**)| True Negative (**TN**) |\n",
    "\n",
    "---\n",
    "\n",
    "### Terminology\n",
    "\n",
    "- **True Positive (TP):** Model correctly predicts positive class.\n",
    "- **True Negative (TN):** Model correctly predicts negative class.\n",
    "- **False Positive (FP):** Model incorrectly predicts positive (Type I error).\n",
    "- **False Negative (FN):** Model incorrectly predicts negative (Type II error).\n",
    "\n",
    "---\n",
    "\n",
    "### Key Metrics\n",
    "\n",
    "- **Accuracy:**  \n",
    "    $$\n",
    "    \\text{Accuracy} = \\frac{TP + TN}{TP + TN + FP + FN}\n",
    "    $$\n",
    "\n",
    "- **Precision:**  \n",
    "    $$\n",
    "    \\text{Precision} = \\frac{TP}{TP + FP}\n",
    "    $$\n",
    "\n",
    "- **Recall (Sensitivity):**  \n",
    "    $$\n",
    "    \\text{Recall} = \\frac{TP}{TP + FN}\n",
    "    $$\n",
    "\n",
    "- **F1 Score:**  \n",
    "    $$\n",
    "    \\text{F1 Score} = 2 \\times \\frac{\\text{Precision} \\times \\text{Recall}}{\\text{Precision} + \\text{Recall}}\n",
    "    $$\n",
    "\n",
    "- **Error Rate:**  \n",
    "    $$\n",
    "    \\text{Error Rate} = \\frac{FP + FN}{TP + TN + FP + FN}\n",
    "    $$\n",
    "- **Type I Error (False Positive):** Predicting positive when it's actually negative.  \n",
    "    *Example:* Diagnosing a healthy patient as sick.\n",
    "\n",
    "- **Type II Error (False Negative):** Predicting negative when it's actually positive.  \n",
    "    *Example:* Missing a disease in a sick patient.\n",
    "- **Which error is more dangerous?**  \n",
    "    It depends on context:\n",
    "    - **Type I Error (False Positive):** More serious if unnecessary action is harmful (e.g., treating a healthy patient).\n",
    "    - **Type II Error (False Negative):** More serious if missing a condition is risky (e.g., missing a disease).\n",
    "\n",
    "    - **Which error matters more?**  \n",
    "        The priority depends on the real-world consequences in the specific application.\n",
    "\n",
    "    **Difference between Precision and Recall:**  \n",
    "    - **Precision** measures how many of the predicted positives are actually positive. It answers: *Of all items labeled as positive, how many are truly positive?*\n",
    "    - **Recall** measures how many of the actual positives are correctly identified. It answers: *Of all actual positive items, how many did we correctly label as positive?*\n",
    "    - ***High precision means fewer false positives, while high recall means fewer false negatives. The balance between them depends on the application.***\n",
    "    ---\n",
    "\n",
    "> The confusion matrix provides insight into the types of errors made by a classifier and is especially valuable for imbalanced datasets."
   ]
  }
 ],
 "metadata": {
  "kernelspec": {
   "display_name": "Python 3",
   "language": "python",
   "name": "python3"
  },
  "language_info": {
   "codemirror_mode": {
    "name": "ipython",
    "version": 3
   },
   "file_extension": ".py",
   "mimetype": "text/x-python",
   "name": "python",
   "nbconvert_exporter": "python",
   "pygments_lexer": "ipython3",
   "version": "3.11.9"
  }
 },
 "nbformat": 4,
 "nbformat_minor": 5
}
