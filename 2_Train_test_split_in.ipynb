{
 "cells": [
  {
   "cell_type": "code",
   "execution_count": 1,
   "id": "a209cc06",
   "metadata": {},
   "outputs": [],
   "source": [
    "import pandas as pd\n",
    "from sklearn.model_selection import train_test_split"
   ]
  },
  {
   "cell_type": "code",
   "execution_count": 7,
   "id": "c01e5979",
   "metadata": {},
   "outputs": [],
   "source": [
    "dataset = pd.read_csv(\"BostonHousing.csv\")\n",
    "\n",
    "x = dataset.drop(\"medv\",axis=1)\n",
    "y  = dataset[\"medv\"]\n",
    "\n",
    "x_train,x_test,y_tarin,y_test = train_test_split(x,y,test_size=.25,random_state=42)\n"
   ]
  },
  {
   "cell_type": "code",
   "execution_count": 18,
   "id": "85c6a53b",
   "metadata": {},
   "outputs": [
    {
     "name": "stdout",
     "output_type": "stream",
     "text": [
      "(379, 13) (127, 13)\n",
      "(379,) (127,)\n"
     ]
    }
   ],
   "source": [
    "print(x_train.shape,x_test.shape)\n",
    "print(y_tarin.shape,y_test.shape)"
   ]
  },
  {
   "cell_type": "markdown",
   "id": "62e9fa92",
   "metadata": {},
   "source": [
    "### Notes on Train-Test Split\n",
    "\n",
    "- **Purpose:**  \n",
    "    Train-test split is used to evaluate how well a machine learning model will perform on unseen data.\n",
    "\n",
    "- **How it works:**  \n",
    "    - The dataset is divided into two parts:\n",
    "        - **Training set:** Used to train (fit) the model.\n",
    "        - **Test set:** Used to evaluate the model’s performance.\n",
    "    - Common split ratios are 75% training and 25% testing, or 80%/20%.\n",
    "\n",
    "- **Why split?**  \n",
    "    - Prevents overfitting (model memorizing the data).\n",
    "    - Gives a realistic estimate of model accuracy on new data.\n",
    "\n",
    "- **In code:**  \n",
    "    The `train_test_split` function from `sklearn.model_selection` is commonly used.\n",
    "\n",
    "- **Example:**  \n",
    "    ```python\n",
    "    x_train, x_test, y_train, y_test = train_test_split(x, y, test_size=0.25, random_state=42)\n",
    "    ```\n",
    "    - `test_size=0.25` means 25% of data is for testing.\n",
    "    - `random_state` ensures the split is reproducible.\n",
    "\n",
    "- **Key Points:**  \n",
    "    - Always train on the training set and evaluate on the test set.\n",
    "    - Never use test data for training.  \n",
    "    - Helps in checking if the model generalizes well."
   ]
  }
 ],
 "metadata": {
  "kernelspec": {
   "display_name": "Python 3",
   "language": "python",
   "name": "python3"
  },
  "language_info": {
   "codemirror_mode": {
    "name": "ipython",
    "version": 3
   },
   "file_extension": ".py",
   "mimetype": "text/x-python",
   "name": "python",
   "nbconvert_exporter": "python",
   "pygments_lexer": "ipython3",
   "version": "3.11.9"
  }
 },
 "nbformat": 4,
 "nbformat_minor": 5
}
