{
 "cells": [
  {
   "cell_type": "markdown",
   "id": "7287b643",
   "metadata": {},
   "source": [
    "# What is Regression Analysis?\n",
    "\n",
    "Regression analysis is a statistical technique used to study the relationship between a dependent variable and one or more independent variables. It helps in predicting the value of the dependent variable based on the values of the independent variables.\n",
    "\n",
    "---\n",
    "\n",
    "# Types of Regression\n",
    "\n",
    "- **Simple Linear Regression:**  \n",
    "    Predicts the relationship between one independent variable (X) and one dependent variable (Y) using a straight line (Y = aX + b).\n",
    "\n",
    "- **Multiple Linear Regression:**  \n",
    "    Predicts the relationship between two or more independent variables and one dependent variable, still using a straight line.\n",
    "\n",
    "- **Ridge & Lasso Regression:**  \n",
    "    Special types of linear regression that add penalties to the model to avoid overfitting and handle complex data.\n",
    "\n",
    "---\n",
    "\n",
    "## Nonlinear Regression\n",
    "\n",
    "- **Polynomial Regression:**  \n",
    "    Models the relationship as a curved line (polynomial), useful when data shows a non-straight trend.\n",
    "\n",
    "- **Logistic Regression:**  \n",
    "    Used when the outcome is categorical (like Yes/No or 0/1). It predicts the probability of a category using an S-shaped curve.\n",
    "\n",
    "- **General Nonlinear Regression:**  \n",
    "    Covers all other cases where the relationship between variables is not a straight line and can take any shape.\n",
    "\n",
    "- **Decision Tree Regression:**  \n",
    "    Splits the data into branches based on feature values, making predictions by learning simple decision rules from the data. It can model complex, nonlinear relationships.\n",
    "\n",
    "- **Random Forest Regression:**  \n",
    "    Uses many decision trees together (an ensemble) to improve prediction accuracy and reduce overfitting. It is capable of capturing nonlinear patterns.\n",
    "\n",
    "- **Support Vector Regression (SVR):**  \n",
    "    Uses the principles of support vector machines to find a line (or hyperplane) that best fits the data, especially useful for complex and nonlinear relationships.\n",
    "\n",
    "- **K-Nearest Neighbors Regression (KNN):**  \n",
    "    Predicts the value of a data point based on the average of its 'k' nearest neighbors in the feature space. It is a non-parametric method that can model nonlinear relationships.\n"
   ]
  },
  {
   "cell_type": "markdown",
   "id": "ad8fd2e7",
   "metadata": {},
   "source": []
  }
 ],
 "metadata": {
  "language_info": {
   "name": "python"
  }
 },
 "nbformat": 4,
 "nbformat_minor": 5
}
