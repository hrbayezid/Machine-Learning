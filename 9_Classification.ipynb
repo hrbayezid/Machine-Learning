{
 "cells": [
  {
   "cell_type": "markdown",
   "id": "ab63c0c6",
   "metadata": {},
   "source": []
  },
  {
   "cell_type": "markdown",
   "id": "2ecc2286",
   "metadata": {},
   "source": [
    "# Notes on Classification\n",
    "\n",
    "- **Classification** is a supervised machine learning task where the goal is to predict the categorical label of new observations based on past observations with known labels.\n",
    "- The output variable in classification is **discrete** (e.g., spam/ham, disease/no disease, digit 0-9).\n",
    "- Common algorithms include:\n",
    "    - Logistic Regression\n",
    "    - Decision Trees\n",
    "    - Random Forests\n",
    "    - Support Vector Machines (SVM)\n",
    "    - k-Nearest Neighbors (k-NN)\n",
    "    - **Evaluation metrics** for classification:  \n",
    "        - Accuracy  \n",
    "        - Precision, Recall, F1-score  \n",
    "        - Confusion Matrix (shows true/false positives/negatives for each class)  \n",
    "        - Log Loss (measures the uncertainty of predictions; lower is better)  \n",
    "        - ROC Curve and AUC\n",
    "- **Applications**:\n",
    "    - Email spam detection\n",
    "    - Image recognition\n",
    "    - Medical diagnosis\n",
    "    - Sentiment analysis\n",
    "\n",
    "Classification is fundamental in data science and is widely used in various domains to automate decision-making processes."
   ]
  }
 ],
 "metadata": {
  "language_info": {
   "name": "python"
  }
 },
 "nbformat": 4,
 "nbformat_minor": 5
}
